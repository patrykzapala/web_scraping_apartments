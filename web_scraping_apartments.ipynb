{
 "cells": [
  {
   "cell_type": "code",
   "execution_count": 1,
   "id": "ca711347",
   "metadata": {},
   "outputs": [],
   "source": [
    "from bs4 import BeautifulSoup\n",
    "import requests\n",
    "import pandas as pd\n",
    "import numpy as np\n",
    "import io\n",
    "import re\n",
    "from random import randint\n",
    "import time\n",
    "from IPython.display import HTML\n",
    "import seaborn as sns\n",
    "import matplotlib.pyplot as plt"
   ]
  },
  {
   "cell_type": "code",
   "execution_count": 2,
   "id": "d8ba642f",
   "metadata": {},
   "outputs": [],
   "source": [
    "headers = { \"Accept\": \"text/html,application/xhtml+xml,application/xml;q=0.9,image/avif,image/webp,image/apng,*/*;q=0.8,application/signed-exchange;v=b3;q=0.9\", \n",
    "            \"Accept-Encoding\": \"gzip, deflate, br\", \n",
    "            \"Accept-Language\" : \"pl-PL,pl;q=0.9,en-US;q=0.8,en;q=0.7\",\n",
    "            \"Upgrade-Insecure-Requests\": \"1\", \n",
    "            \"User-Agent\": \"Mozilla/5.0 (Windows NT 10.0; Win64; x64) AppleWebKit/537.36 (KHTML, like Gecko) Chrome/100.0.4896.127 Safari/537.36\"}"
   ]
  },
  {
   "cell_type": "code",
   "execution_count": null,
   "id": "44ce066d",
   "metadata": {},
   "outputs": [],
   "source": [
    "#prepare the file\n",
    "dataFile = io.open('mieszkania_krakow.txt','w',encoding='utf-8')\n",
    "\n",
    "for i in range (0, 600, 30):\n",
    "    currentPage = 'https://sprzedajemy.pl/krakow/nieruchomosci/mieszkania?inp_text%5Bv%5D=strony+z+mieszkaniami&inp_text%5Bn%5D=1&sort=inp_srt_score_dscore_d&offset=' + str(i)\n",
    "    r = requests.get(currentPage)\n",
    "    soup = BeautifulSoup(r.text, 'lxml')\n",
    "    flats = soup.find('ul', class_ = 'list normal').find_all('li', id = re.compile(\"^offer\"))\n",
    "    for flat in flats:\n",
    "            #website\n",
    "            website = f\"https://sprzedajemy.pl{flat.find('a', href=True)['href']}\"\n",
    "            #print(website)\n",
    "            try: \n",
    "                dataFile.write(website + ',')\n",
    "            except:\n",
    "                dataFile.write('n/a,')\n",
    "            \n",
    "            #city\n",
    "            try:\n",
    "                city_with_tabs = flat.find('a', class_ = 'location').find('strong', class_ = 'city').text\n",
    "                city = re.sub(r\"[\\n\\t\\s]*\", \"\", city_with_tabs)\n",
    "                dataFile.write(city + ',')\n",
    "            except:\n",
    "                dataFile.write('n/a,')\n",
    "                \n",
    "            #district\n",
    "            try:\n",
    "                district = flat.find('a', class_ = 'location').span.text\n",
    "                dataFile.write(district+',')\n",
    "            except:\n",
    "                dataFile.write('n/a,')\n",
    "                \n",
    "            #description\n",
    "            try:\n",
    "                description_with_tabs = flat.h2.text\n",
    "                description = re.sub(r\"[\\n\\t]*\", \"\", description_with_tabs).strip().replace(',','.')\n",
    "                dataFile.write(description + ',')\n",
    "            except:\n",
    "                dataFile.write('n/a,')\n",
    "\n",
    "            #price\n",
    "            try:\n",
    "                price_with_tabs = flat.find('span', class_ = 'price').text\n",
    "                price = re.sub(r\"[\\n\\t\\s]*\", \"\", price_with_tabs).replace(',','.')\n",
    "                dataFile.write(price + '')\n",
    "            except:\n",
    "                dataFile.write('n/a')\n",
    "             \n",
    "            r = requests.get(website)\n",
    "            soup = BeautifulSoup(r.text, 'lxml')\n",
    "            attribute_list = soup.find('ul', class_ = 'attribute-list')\n",
    "            strongs = attribute_list.find_all('strong')\n",
    "            att = ''\n",
    "            for s in strongs:\n",
    "                att += ','                \n",
    "                att += s.text.replace(',','.') \n",
    "            print(att)\n",
    "            dataFile.write(att)               \n",
    "            dataFile.write('\\n')\n",
    "            \n",
    "            #random_int = randint(2,5)\n",
    "            #print(f'SLEEPING for {random_int} sec!')\n",
    "            #time.sleep(random_int)\n",
    "            \n",
    "    #print(f\"Parsed {i+30} offers\")\n",
    "dataFile.close()"
   ]
  },
  {
   "cell_type": "code",
   "execution_count": 3,
   "id": "565e43a7",
   "metadata": {},
   "outputs": [],
   "source": [
    "df = pd.read_csv('mieszkania_krakow.txt')\n",
    "columns = []\n",
    "columns.append(\"Link\")\n",
    "columns.append(\"Miasto\")\n",
    "columns.append(\"Dzielnica\")\n",
    "columns.append(\"Opis\")\n",
    "columns.append(\"Cena\")\n",
    "columns.append(\"Oferta od\")\n",
    "columns.append(\"Rynek\")\n",
    "columns.append(\"Cena za m2\")\n",
    "columns.append(\"Powierzchnia\")\n",
    "columns.append(\"Zabudowa\")\n",
    "columns.append(\"Liczba pokoi\")\n",
    "columns.append(\"Material budynku\")\n",
    "columns.append(\"Pokrycie dachu\")\n",
    "columns.append(\"Ogrzewanie\")\n",
    "columns.append(\"Rok budowy\")\n",
    "columns.append(\"Forma wlasnosci\")\n",
    "columns.append(\"Pietro\")\n",
    "columns.append(\"Liczba pieter\")\n",
    "'''\n",
    " [\n",
    "    \"Link\", \"Miasto\", \"Dzielnica\", \"Opis\", \"Cena\", \n",
    "    \"Ofertaod\", \"Rynek\", \"Cenazam2\", 'Powierzchnia\", \"Zabudowa\", \n",
    "    \"Liczba pokoi\", \"Material budynku\", \"Pokrycie dachu\", \"Ogrzewanie\", \"Rok budowy\", \n",
    "    \"Forma wlasnosci\", \"Pietro\", \"Liczba pieter\"\n",
    "] '''\n",
    "df.columns = columns"
   ]
  },
  {
   "cell_type": "code",
   "execution_count": 4,
   "id": "f6393303",
   "metadata": {},
   "outputs": [
    {
     "data": {
      "text/html": [
       "<div>\n",
       "<style scoped>\n",
       "    .dataframe tbody tr th:only-of-type {\n",
       "        vertical-align: middle;\n",
       "    }\n",
       "\n",
       "    .dataframe tbody tr th {\n",
       "        vertical-align: top;\n",
       "    }\n",
       "\n",
       "    .dataframe thead th {\n",
       "        text-align: right;\n",
       "    }\n",
       "</style>\n",
       "<table border=\"1\" class=\"dataframe\">\n",
       "  <thead>\n",
       "    <tr style=\"text-align: right;\">\n",
       "      <th></th>\n",
       "      <th>Link</th>\n",
       "      <th>Miasto</th>\n",
       "      <th>Dzielnica</th>\n",
       "      <th>Opis</th>\n",
       "      <th>Cena</th>\n",
       "      <th>Oferta od</th>\n",
       "      <th>Rynek</th>\n",
       "      <th>Cena za m2</th>\n",
       "      <th>Powierzchnia</th>\n",
       "      <th>Zabudowa</th>\n",
       "      <th>Liczba pokoi</th>\n",
       "      <th>Material budynku</th>\n",
       "      <th>Pokrycie dachu</th>\n",
       "      <th>Ogrzewanie</th>\n",
       "      <th>Rok budowy</th>\n",
       "      <th>Forma wlasnosci</th>\n",
       "      <th>Pietro</th>\n",
       "      <th>Liczba pieter</th>\n",
       "    </tr>\n",
       "  </thead>\n",
       "  <tbody>\n",
       "    <tr>\n",
       "      <th>0</th>\n",
       "      <td>https://sprzedajemy.pl/mieszkanie-krakow-racla...</td>\n",
       "      <td>Kraków</td>\n",
       "      <td>NaN</td>\n",
       "      <td>Mieszkanie Kraków Racławicka - okolice 37.56 m...</td>\n",
       "      <td>570912zł</td>\n",
       "      <td>firmy</td>\n",
       "      <td>pierwotny</td>\n",
       "      <td>15199 zł/m²</td>\n",
       "      <td>37.56 m²</td>\n",
       "      <td>blok</td>\n",
       "      <td>2</td>\n",
       "      <td>inne</td>\n",
       "      <td>-</td>\n",
       "      <td>-</td>\n",
       "      <td>2022</td>\n",
       "      <td>własność</td>\n",
       "      <td>2</td>\n",
       "      <td>-</td>\n",
       "    </tr>\n",
       "    <tr>\n",
       "      <th>1</th>\n",
       "      <td>https://sprzedajemy.pl/mieszkanie-krakow-okoli...</td>\n",
       "      <td>Kraków</td>\n",
       "      <td>NaN</td>\n",
       "      <td>Mieszkanie Kraków okolice ul. Wyki 54.79m2 3 p...</td>\n",
       "      <td>567077zł</td>\n",
       "      <td>firmy</td>\n",
       "      <td>pierwotny</td>\n",
       "      <td>10350 zł/m²</td>\n",
       "      <td>54.79 m²</td>\n",
       "      <td>-</td>\n",
       "      <td>3</td>\n",
       "      <td>inne</td>\n",
       "      <td>-</td>\n",
       "      <td>-</td>\n",
       "      <td>2023</td>\n",
       "      <td>własność</td>\n",
       "      <td>1</td>\n",
       "      <td>-</td>\n",
       "    </tr>\n",
       "    <tr>\n",
       "      <th>2</th>\n",
       "      <td>https://sprzedajemy.pl/oferta-sprzedazy-mieszk...</td>\n",
       "      <td>Kraków</td>\n",
       "      <td>NaN</td>\n",
       "      <td>Oferta sprzedaży mieszkania Kraków Saska - oko...</td>\n",
       "      <td>741091zł</td>\n",
       "      <td>firmy</td>\n",
       "      <td>pierwotny</td>\n",
       "      <td>10900 zł/m²</td>\n",
       "      <td>67.99 m²</td>\n",
       "      <td>blok</td>\n",
       "      <td>3</td>\n",
       "      <td>inne</td>\n",
       "      <td>-</td>\n",
       "      <td>-</td>\n",
       "      <td>2021</td>\n",
       "      <td>własność</td>\n",
       "      <td>3</td>\n",
       "      <td>-</td>\n",
       "    </tr>\n",
       "    <tr>\n",
       "      <th>3</th>\n",
       "      <td>https://sprzedajemy.pl/mieszkanie-66-89m2-4-po...</td>\n",
       "      <td>Kraków</td>\n",
       "      <td>NaN</td>\n",
       "      <td>Mieszkanie 66.89m2 4-pokojowe Kraków okolice u...</td>\n",
       "      <td>712379zł</td>\n",
       "      <td>firmy</td>\n",
       "      <td>pierwotny</td>\n",
       "      <td>10650 zł/m²</td>\n",
       "      <td>66.89 m²</td>\n",
       "      <td>-</td>\n",
       "      <td>4</td>\n",
       "      <td>inne</td>\n",
       "      <td>-</td>\n",
       "      <td>-</td>\n",
       "      <td>2023</td>\n",
       "      <td>własność</td>\n",
       "      <td>4</td>\n",
       "      <td>-</td>\n",
       "    </tr>\n",
       "    <tr>\n",
       "      <th>4</th>\n",
       "      <td>https://sprzedajemy.pl/mieszkanie-krakow-racla...</td>\n",
       "      <td>Kraków</td>\n",
       "      <td>NaN</td>\n",
       "      <td>Mieszkanie Kraków Racławicka - okolice 37.22m2...</td>\n",
       "      <td>569466zł</td>\n",
       "      <td>firmy</td>\n",
       "      <td>pierwotny</td>\n",
       "      <td>15300 zł/m²</td>\n",
       "      <td>37.22 m²</td>\n",
       "      <td>blok</td>\n",
       "      <td>2</td>\n",
       "      <td>inne</td>\n",
       "      <td>-</td>\n",
       "      <td>-</td>\n",
       "      <td>2022</td>\n",
       "      <td>własność</td>\n",
       "      <td>3</td>\n",
       "      <td>-</td>\n",
       "    </tr>\n",
       "  </tbody>\n",
       "</table>\n",
       "</div>"
      ],
      "text/plain": [
       "                                                Link  Miasto Dzielnica  \\\n",
       "0  https://sprzedajemy.pl/mieszkanie-krakow-racla...  Kraków       NaN   \n",
       "1  https://sprzedajemy.pl/mieszkanie-krakow-okoli...  Kraków       NaN   \n",
       "2  https://sprzedajemy.pl/oferta-sprzedazy-mieszk...  Kraków       NaN   \n",
       "3  https://sprzedajemy.pl/mieszkanie-66-89m2-4-po...  Kraków       NaN   \n",
       "4  https://sprzedajemy.pl/mieszkanie-krakow-racla...  Kraków       NaN   \n",
       "\n",
       "                                                Opis      Cena Oferta od  \\\n",
       "0  Mieszkanie Kraków Racławicka - okolice 37.56 m...  570912zł    firmy    \n",
       "1  Mieszkanie Kraków okolice ul. Wyki 54.79m2 3 p...  567077zł    firmy    \n",
       "2  Oferta sprzedaży mieszkania Kraków Saska - oko...  741091zł    firmy    \n",
       "3  Mieszkanie 66.89m2 4-pokojowe Kraków okolice u...  712379zł    firmy    \n",
       "4  Mieszkanie Kraków Racławicka - okolice 37.22m2...  569466zł    firmy    \n",
       "\n",
       "        Rynek   Cena za m2 Powierzchnia Zabudowa Liczba pokoi  \\\n",
       "0  pierwotny   15199 zł/m²     37.56 m²    blok            2    \n",
       "1  pierwotny   10350 zł/m²     54.79 m²        -           3    \n",
       "2  pierwotny   10900 zł/m²     67.99 m²    blok            3    \n",
       "3  pierwotny   10650 zł/m²     66.89 m²        -           4    \n",
       "4  pierwotny   15300 zł/m²     37.22 m²    blok            2    \n",
       "\n",
       "  Material budynku Pokrycie dachu Ogrzewanie Rok budowy Forma wlasnosci  \\\n",
       "0            inne               -          -      2022        własność    \n",
       "1            inne               -          -      2023        własność    \n",
       "2            inne               -          -      2021        własność    \n",
       "3            inne               -          -      2023        własność    \n",
       "4            inne               -          -      2022        własność    \n",
       "\n",
       "  Pietro Liczba pieter  \n",
       "0     2              -  \n",
       "1     1              -  \n",
       "2     3              -  \n",
       "3     4              -  \n",
       "4     3              -  "
      ]
     },
     "execution_count": 4,
     "metadata": {},
     "output_type": "execute_result"
    }
   ],
   "source": [
    "df.head()"
   ]
  },
  {
   "cell_type": "code",
   "execution_count": 5,
   "id": "6174969a",
   "metadata": {},
   "outputs": [
    {
     "data": {
      "text/plain": [
       "Link                  0\n",
       "Miasto                0\n",
       "Dzielnica           551\n",
       "Opis                  0\n",
       "Cena                  0\n",
       "Oferta od             0\n",
       "Rynek                 0\n",
       "Cena za m2            1\n",
       "Powierzchnia          0\n",
       "Zabudowa            205\n",
       "Liczba pokoi          6\n",
       "Material budynku    141\n",
       "Pokrycie dachu      592\n",
       "Ogrzewanie          581\n",
       "Rok budowy            4\n",
       "Forma wlasnosci      27\n",
       "Pietro               97\n",
       "Liczba pieter       592\n",
       "dtype: int64"
      ]
     },
     "execution_count": 5,
     "metadata": {},
     "output_type": "execute_result"
    }
   ],
   "source": [
    "df.replace('-', np.NaN, inplace=True)\n",
    "df.isna().sum()"
   ]
  },
  {
   "cell_type": "code",
   "execution_count": 6,
   "id": "db433d61",
   "metadata": {},
   "outputs": [],
   "source": [
    "#drop columns that have a lot of missing values: dzielnica, zabudowa, material budynku, pokrycie dachu, forma wlasnosci, pietro, liczba pieter\n",
    "drop_columns = [\"Dzielnica\", \"Zabudowa\", \"Material budynku\", \"Pokrycie dachu\", \"Ogrzewanie\", \"Forma wlasnosci\", \"Pietro\", \"Liczba pieter\"]\n",
    "df = df.drop(columns = drop_columns)"
   ]
  },
  {
   "cell_type": "code",
   "execution_count": 7,
   "id": "56eef3e4",
   "metadata": {},
   "outputs": [],
   "source": [
    "#duplicate rows \n",
    "duplicate = df[df.duplicated()]\n",
    "#duplicate"
   ]
  },
  {
   "cell_type": "code",
   "execution_count": 8,
   "id": "e0f549e7",
   "metadata": {},
   "outputs": [],
   "source": [
    "df = df.drop_duplicates()\n",
    "df = df.dropna()"
   ]
  },
  {
   "cell_type": "code",
   "execution_count": 9,
   "id": "98e078d5",
   "metadata": {},
   "outputs": [
    {
     "data": {
      "text/plain": [
       "Link            object\n",
       "Miasto          object\n",
       "Opis            object\n",
       "Cena            object\n",
       "Oferta od       object\n",
       "Rynek           object\n",
       "Cena za m2      object\n",
       "Powierzchnia    object\n",
       "Liczba pokoi    object\n",
       "Rok budowy      object\n",
       "dtype: object"
      ]
     },
     "execution_count": 9,
     "metadata": {},
     "output_type": "execute_result"
    }
   ],
   "source": [
    "df.dtypes"
   ]
  },
  {
   "cell_type": "code",
   "execution_count": 10,
   "id": "712f0844",
   "metadata": {},
   "outputs": [],
   "source": [
    "df_clean = df.copy()"
   ]
  },
  {
   "cell_type": "code",
   "execution_count": 11,
   "id": "91464f6f",
   "metadata": {},
   "outputs": [],
   "source": [
    "df_clean['Cena'] = df['Cena'].str.replace('zł','')\n",
    "df_clean['Cena'] = df_clean['Cena'].astype(str).astype(int)"
   ]
  },
  {
   "cell_type": "code",
   "execution_count": 12,
   "id": "03b56915",
   "metadata": {},
   "outputs": [],
   "source": [
    "df_clean['Cena za m2'] = df_clean['Cena za m2'].str.replace('zł/m²','')\n",
    "df_clean['Cena za m2'] = df_clean['Cena za m2'].astype(str).astype(int)"
   ]
  },
  {
   "cell_type": "code",
   "execution_count": 13,
   "id": "69f61370",
   "metadata": {},
   "outputs": [],
   "source": [
    "df_clean['Powierzchnia'] = df_clean['Powierzchnia'].str.replace('m²','')\n",
    "df_clean['Powierzchnia'] = df_clean['Powierzchnia'].astype(str).astype(float)"
   ]
  },
  {
   "cell_type": "code",
   "execution_count": 14,
   "id": "9ca5ce25",
   "metadata": {},
   "outputs": [],
   "source": [
    "df_clean['Rok budowy'] = df_clean['Rok budowy'].astype(str).astype(int)"
   ]
  },
  {
   "cell_type": "code",
   "execution_count": 15,
   "id": "2e566397",
   "metadata": {},
   "outputs": [
    {
     "data": {
      "text/plain": [
       "Link             object\n",
       "Miasto           object\n",
       "Opis             object\n",
       "Cena              int32\n",
       "Oferta od        object\n",
       "Rynek            object\n",
       "Cena za m2        int32\n",
       "Powierzchnia    float64\n",
       "Liczba pokoi     object\n",
       "Rok budowy        int32\n",
       "dtype: object"
      ]
     },
     "execution_count": 15,
     "metadata": {},
     "output_type": "execute_result"
    }
   ],
   "source": [
    "df_clean.dtypes"
   ]
  },
  {
   "cell_type": "code",
   "execution_count": 16,
   "id": "d55faeb5",
   "metadata": {},
   "outputs": [
    {
     "data": {
      "text/plain": [
       "<AxesSubplot:ylabel='Rok budowy'>"
      ]
     },
     "execution_count": 16,
     "metadata": {},
     "output_type": "execute_result"
    },
    {
     "data": {
      "image/png": "[encoded data removed]",
      "text/plain": [
       "<Figure size 1296x1296 with 4 Axes>"
      ]
     },
     "metadata": {
      "needs_background": "light"
     },
     "output_type": "display_data"
    }
   ],
   "source": [
    "plt.figure(figsize=(18,18))\n",
    "plt.subplot(2,2,1)\n",
    "sns.boxplot(y=df_clean[\"Cena\"])\n",
    "plt.subplot(2,2,2)\n",
    "sns.boxplot(y=df_clean[\"Cena za m2\"])\n",
    "plt.subplot(2,2,3)\n",
    "sns.boxplot(y=df_clean[\"Powierzchnia\"])\n",
    "plt.subplot(2,2,4)\n",
    "sns.boxplot(y=df_clean[\"Rok budowy\"])"
   ]
  },
  {
   "cell_type": "code",
   "execution_count": 17,
   "id": "54e5321e",
   "metadata": {},
   "outputs": [
    {
     "data": {
      "text/html": [
       "<div>\n",
       "<style scoped>\n",
       "    .dataframe tbody tr th:only-of-type {\n",
       "        vertical-align: middle;\n",
       "    }\n",
       "\n",
       "    .dataframe tbody tr th {\n",
       "        vertical-align: top;\n",
       "    }\n",
       "\n",
       "    .dataframe thead th {\n",
       "        text-align: right;\n",
       "    }\n",
       "</style>\n",
       "<table border=\"1\" class=\"dataframe\">\n",
       "  <thead>\n",
       "    <tr style=\"text-align: right;\">\n",
       "      <th></th>\n",
       "      <th>count</th>\n",
       "      <th>mean</th>\n",
       "      <th>std</th>\n",
       "      <th>min</th>\n",
       "      <th>25%</th>\n",
       "      <th>50%</th>\n",
       "      <th>75%</th>\n",
       "      <th>max</th>\n",
       "    </tr>\n",
       "  </thead>\n",
       "  <tbody>\n",
       "    <tr>\n",
       "      <th>Cena</th>\n",
       "      <td>584.0</td>\n",
       "      <td>514876.75</td>\n",
       "      <td>397207.26</td>\n",
       "      <td>2000.0</td>\n",
       "      <td>401377.50</td>\n",
       "      <td>518281.00</td>\n",
       "      <td>599000.00</td>\n",
       "      <td>5180000.00</td>\n",
       "    </tr>\n",
       "    <tr>\n",
       "      <th>Cena za m2</th>\n",
       "      <td>584.0</td>\n",
       "      <td>10371.05</td>\n",
       "      <td>5025.14</td>\n",
       "      <td>37.0</td>\n",
       "      <td>8900.00</td>\n",
       "      <td>10880.00</td>\n",
       "      <td>12900.00</td>\n",
       "      <td>42199.00</td>\n",
       "    </tr>\n",
       "    <tr>\n",
       "      <th>Powierzchnia</th>\n",
       "      <td>584.0</td>\n",
       "      <td>51.27</td>\n",
       "      <td>30.63</td>\n",
       "      <td>12.8</td>\n",
       "      <td>38.75</td>\n",
       "      <td>49.11</td>\n",
       "      <td>57.29</td>\n",
       "      <td>618.11</td>\n",
       "    </tr>\n",
       "    <tr>\n",
       "      <th>Rok budowy</th>\n",
       "      <td>584.0</td>\n",
       "      <td>2012.97</td>\n",
       "      <td>25.78</td>\n",
       "      <td>1801.0</td>\n",
       "      <td>2021.00</td>\n",
       "      <td>2022.00</td>\n",
       "      <td>2023.00</td>\n",
       "      <td>2024.00</td>\n",
       "    </tr>\n",
       "  </tbody>\n",
       "</table>\n",
       "</div>"
      ],
      "text/plain": [
       "              count       mean        std     min        25%        50%  \\\n",
       "Cena          584.0  514876.75  397207.26  2000.0  401377.50  518281.00   \n",
       "Cena za m2    584.0   10371.05    5025.14    37.0    8900.00   10880.00   \n",
       "Powierzchnia  584.0      51.27      30.63    12.8      38.75      49.11   \n",
       "Rok budowy    584.0    2012.97      25.78  1801.0    2021.00    2022.00   \n",
       "\n",
       "                    75%         max  \n",
       "Cena          599000.00  5180000.00  \n",
       "Cena za m2     12900.00    42199.00  \n",
       "Powierzchnia      57.29      618.11  \n",
       "Rok budowy      2023.00     2024.00  "
      ]
     },
     "execution_count": 17,
     "metadata": {},
     "output_type": "execute_result"
    }
   ],
   "source": [
    "continuous_cols = ['Cena', 'Cena za m2', 'Powierzchnia', 'Rok budowy']\n",
    "df_clean[continuous_cols].describe().transpose().round(2)"
   ]
  },
  {
   "cell_type": "code",
   "execution_count": 18,
   "id": "db3994b0",
   "metadata": {},
   "outputs": [
    {
     "data": {
      "text/plain": [
       "Kraków    584\n",
       "Name: Miasto, dtype: int64"
      ]
     },
     "execution_count": 18,
     "metadata": {},
     "output_type": "execute_result"
    }
   ],
   "source": [
    "df[\"Miasto\"].value_counts()"
   ]
  },
  {
   "cell_type": "code",
   "execution_count": 19,
   "id": "9c667d3d",
   "metadata": {},
   "outputs": [
    {
     "data": {
      "text/plain": [
       "firmy               578\n",
       "osoby prywatnej       6\n",
       "Name: Oferta od, dtype: int64"
      ]
     },
     "execution_count": 19,
     "metadata": {},
     "output_type": "execute_result"
    }
   ],
   "source": [
    "df[\"Oferta od\"].value_counts()"
   ]
  },
  {
   "cell_type": "code",
   "execution_count": 20,
   "id": "f94eaa9f",
   "metadata": {},
   "outputs": [
    {
     "data": {
      "text/plain": [
       "pierwotny     459\n",
       "wtórny        125\n",
       "Name: Rynek, dtype: int64"
      ]
     },
     "execution_count": 20,
     "metadata": {},
     "output_type": "execute_result"
    }
   ],
   "source": [
    "df[\"Rynek\"].value_counts()"
   ]
  },
  {
   "cell_type": "code",
   "execution_count": 21,
   "id": "c96bdc17",
   "metadata": {},
   "outputs": [
    {
     "data": {
      "text/plain": [
       "2      260\n",
       "3      196\n",
       "1       80\n",
       "4       38\n",
       "5        6\n",
       "7        3\n",
       "11       1\n",
       "Name: Liczba pokoi, dtype: int64"
      ]
     },
     "execution_count": 21,
     "metadata": {},
     "output_type": "execute_result"
    }
   ],
   "source": [
    "df[\"Liczba pokoi\"].value_counts()"
   ]
  }
 ],
 "metadata": {
  "kernelspec": {
   "display_name": "Python 3 (ipykernel)",
   "language": "python",
   "name": "python3"
  },
  "language_info": {
   "codemirror_mode": {
    "name": "ipython",
    "version": 3
   },
   "file_extension": ".py",
   "mimetype": "text/x-python",
   "name": "python",
   "nbconvert_exporter": "python",
   "pygments_lexer": "ipython3",
   "version": "3.9.7"
  }
 },
 "nbformat": 4,
 "nbformat_minor": 5
}
